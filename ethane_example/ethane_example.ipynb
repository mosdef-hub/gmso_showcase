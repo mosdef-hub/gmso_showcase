{
 "cells": [
  {
   "cell_type": "markdown",
   "metadata": {},
   "source": [
    "## Paramterized Ethane Example"
   ]
  },
  {
   "cell_type": "code",
   "execution_count": 2,
   "metadata": {},
   "outputs": [
    {
     "name": "stderr",
     "output_type": "stream",
     "text": [
      "/Users/quachcd/opt/anaconda3/envs/general/lib/python3.7/site-packages/ipykernel/ipkernel.py:287: DeprecationWarning: `should_run_async` will not call `transform_cell` automatically in the future. Please pass the result to `transformed_cell` argument and any exception that happen during thetransform in `preprocessing_exc_tuple` in IPython 7.17 and above.\n",
      "  and should_run_async(code)\n"
     ]
    }
   ],
   "source": [
    "import pytest \n",
    "import numpy as np\n",
    "import mbuild as mb \n",
    "import mbuild.recipes \n",
    "import unyt as u \n",
    "import foyer \n",
    "import gmso \n",
    "\n",
    "from gmso.external import from_parmed\n",
    "import parmed as pmd\n",
    "\n",
    "import warnings \n",
    "warnings.filterwarnings('ignore')"
   ]
  },
  {
   "cell_type": "code",
   "execution_count": 3,
   "metadata": {},
   "outputs": [],
   "source": [
    "from mbuild.lib.molecules import Ethane\n",
    "\n",
    "mb_ethane = Ethane()\n",
    "oplsaa = foyer.Forcefield(name='oplsaa')\n",
    "\n",
    "pmd_ethane = oplsaa.apply(mb_ethane)\n",
    "top = from_parmed(pmd_ethane)\n",
    "top.name = \"Ethane\""
   ]
  },
  {
   "cell_type": "code",
   "execution_count": 4,
   "metadata": {},
   "outputs": [
    {
     "name": "stdout",
     "output_type": "stream",
     "text": [
      "Atom name: C\n",
      "Atom type: opls_135 \n",
      "\n",
      "Atom name: H\n",
      "Atom type: opls_140 \n",
      "\n",
      "Atom name: H\n",
      "Atom type: opls_140 \n",
      "\n",
      "Atom name: H\n",
      "Atom type: opls_140 \n",
      "\n",
      "Atom name: C\n",
      "Atom type: opls_135 \n",
      "\n",
      "Atom name: H\n",
      "Atom type: opls_140 \n",
      "\n",
      "Atom name: H\n",
      "Atom type: opls_140 \n",
      "\n",
      "Atom name: H\n",
      "Atom type: opls_140 \n",
      "\n"
     ]
    }
   ],
   "source": [
    "for site in top.sites:\n",
    "    print('Atom name: {}'.format(site.name))\n",
    "    print('Atom type: {} \\n'.format(site.atom_type.name))"
   ]
  },
  {
   "cell_type": "code",
   "execution_count": 5,
   "metadata": {},
   "outputs": [
    {
     "data": {
      "text/plain": [
       "{'name_': 'opls_135',\n",
       " 'potential_expression_': <PotentialExpression, expression: 4*epsilon*(-sigma**6/r**6 + sigma**12/r**12), 1 independent variables>,\n",
       " 'topology_': <Ethane 8 sites, 28 connections, id: 140246136100816>,\n",
       " 'set_ref_': 'atom_type_dict',\n",
       " 'mass_': unyt_quantity(12.01078, 'g/mol'),\n",
       " 'charge_': unyt_quantity(0., 'C'),\n",
       " 'atomclass_': '',\n",
       " 'doi_': '',\n",
       " 'overrides_': set(),\n",
       " 'definition_': '',\n",
       " 'description_': ''}"
      ]
     },
     "metadata": {},
     "output_type": "display_data"
    }
   ],
   "source": [
    "display(top.sites[0].atom_type.__dict__)"
   ]
  },
  {
   "cell_type": "code",
   "execution_count": 6,
   "metadata": {
    "scrolled": false
   },
   "outputs": [
    {
     "name": "stdout",
     "output_type": "stream",
     "text": [
      "Potential expression: 4*epsilon*(-sigma**6/r**6 + sigma**12/r**12)\n",
      "Independent variables: {r}\n",
      "Paremeters: {'sigma': unyt_quantity(3.5, 'Å'), 'epsilon': unyt_quantity(0.066, 'kcal/mol')}\n"
     ]
    }
   ],
   "source": [
    "potential_object = top.sites[0].atom_type.potential_expression\n",
    "print('Potential expression: {}'.format(potential_object.expression))\n",
    "print('Independent variables: {}'.format(potential_object.independent_variables))\n",
    "print('Paremeters: {}'.format(potential_object.parameters))"
   ]
  },
  {
   "cell_type": "markdown",
   "metadata": {},
   "source": [
    "## GROMACS and LAMMPS writer"
   ]
  },
  {
   "cell_type": "code",
   "execution_count": 1,
   "metadata": {},
   "outputs": [
    {
     "data": {
      "application/vnd.jupyter.widget-view+json": {
       "model_id": "042bed0ec72f4141bb669a97d22fd79c",
       "version_major": 2,
       "version_minor": 0
      },
      "text/plain": []
     },
     "metadata": {},
     "output_type": "display_data"
    }
   ],
   "source": [
    "from gmso.formats.gro import read_gro, write_gro\n",
    "from gmso.formats.top import write_top\n",
    "from gmso.formats.lammpsdata import write_lammpsdata, read_lammpsdata"
   ]
  },
  {
   "cell_type": "code",
   "execution_count": 8,
   "metadata": {},
   "outputs": [],
   "source": [
    "write_gro(top, './simulations/gromacs/out.gro')\n",
    "write_top(top, './simulations/gromacs/out.top')\n",
    "#write_lammpsdata(top, './simulations/lammps/ethane.lammps')"
   ]
  },
  {
   "cell_type": "code",
   "execution_count": 16,
   "metadata": {
    "scrolled": true
   },
   "outputs": [
    {
     "name": "stdout",
     "output_type": "stream",
     "text": [
      "/Users/quachcd/Documents/dev/gmso_showcase/ethane_example/simulations/gromacs\n",
      "                      :-) GROMACS - gmx grompp, 2019.1 (-:\n",
      "\n",
      "                            GROMACS is written by:\n",
      "     Emile Apol      Rossen Apostolov      Paul Bauer     Herman J.C. Berendsen\n",
      "    Par Bjelkmar      Christian Blau   Viacheslav Bolnykh     Kevin Boyd    \n",
      " Aldert van Buuren   Rudi van Drunen     Anton Feenstra       Alan Gray     \n",
      "  Gerrit Groenhof     Anca Hamuraru    Vincent Hindriksen  M. Eric Irrgang  \n",
      "  Aleksei Iupinov   Christoph Junghans     Joe Jordan     Dimitrios Karkoulis\n",
      "    Peter Kasson        Jiri Kraus      Carsten Kutzner      Per Larsson    \n",
      "  Justin A. Lemkul    Viveca Lindahl    Magnus Lundborg     Erik Marklund   \n",
      "    Pascal Merz     Pieter Meulenhoff    Teemu Murtola       Szilard Pall   \n",
      "    Sander Pronk      Roland Schulz      Michael Shirts    Alexey Shvetsov  \n",
      "   Alfons Sijbers     Peter Tieleman      Jon Vincent      Teemu Virolainen \n",
      " Christian Wennberg    Maarten Wolf   \n",
      "                           and the project leaders:\n",
      "        Mark Abraham, Berk Hess, Erik Lindahl, and David van der Spoel\n",
      "\n",
      "Copyright (c) 1991-2000, University of Groningen, The Netherlands.\n",
      "Copyright (c) 2001-2018, The GROMACS development team at\n",
      "Uppsala University, Stockholm University and\n",
      "the Royal Institute of Technology, Sweden.\n",
      "check out http://www.gromacs.org for more information.\n",
      "\n",
      "GROMACS is free software; you can redistribute it and/or modify it\n",
      "under the terms of the GNU Lesser General Public License\n",
      "as published by the Free Software Foundation; either version 2.1\n",
      "of the License, or (at your option) any later version.\n",
      "\n",
      "GROMACS:      gmx grompp, version 2019.1\n",
      "Executable:   /Users/quachcd/opt/anaconda3/envs/general/bin/gmx\n",
      "Data prefix:  /Users/quachcd/opt/anaconda3/envs/general\n",
      "Working dir:  /Users/quachcd/Documents/dev/gmso_showcase/ethane_example/simulations/gromacs\n",
      "Command line:\n",
      "  gmx grompp -v -f em.mdp -p out.top -c out.gro -o em.tpr\n",
      "\n",
      "checking input for internal consistency...\n",
      "Setting the LD random seed to 1227349761\n",
      "processing topology...\n",
      "Generated 3 of the 3 non-bonded parameter combinations\n",
      "Excluding 3 bonded neighbours molecule type 'Ethane'\n",
      "processing coordinates...\n",
      "double-checking input for internal consistency...\n",
      "\n",
      "ERROR 1 [file out.top, line 70]:\n",
      "  ERROR: The cut-off length is longer than half the shortest box vector or\n",
      "  longer than the smallest box diagonal element. Increase the box size or\n",
      "  decrease rlist.\n",
      "\n",
      "\n",
      "Removing all charge groups because cutoff-scheme=Verlet\n",
      "\n",
      "-------------------------------------------------------\n",
      "Program:     gmx grompp, version 2019.1\n",
      "Source file: src/gromacs/gmxpreprocess/grompp.cpp (line 1895)\n",
      "\n",
      "Fatal error:\n",
      "There was 1 error in input file(s)\n",
      "\n",
      "For more information and tips for troubleshooting, please check the GROMACS\n",
      "website at http://www.gromacs.org/Documentation/Errors\n",
      "-------------------------------------------------------\n",
      "                      :-) GROMACS - gmx mdrun, 2019.1 (-:\n",
      "\n",
      "                            GROMACS is written by:\n",
      "     Emile Apol      Rossen Apostolov      Paul Bauer     Herman J.C. Berendsen\n",
      "    Par Bjelkmar      Christian Blau   Viacheslav Bolnykh     Kevin Boyd    \n",
      " Aldert van Buuren   Rudi van Drunen     Anton Feenstra       Alan Gray     \n",
      "  Gerrit Groenhof     Anca Hamuraru    Vincent Hindriksen  M. Eric Irrgang  \n",
      "  Aleksei Iupinov   Christoph Junghans     Joe Jordan     Dimitrios Karkoulis\n",
      "    Peter Kasson        Jiri Kraus      Carsten Kutzner      Per Larsson    \n",
      "  Justin A. Lemkul    Viveca Lindahl    Magnus Lundborg     Erik Marklund   \n",
      "    Pascal Merz     Pieter Meulenhoff    Teemu Murtola       Szilard Pall   \n",
      "    Sander Pronk      Roland Schulz      Michael Shirts    Alexey Shvetsov  \n",
      "   Alfons Sijbers     Peter Tieleman      Jon Vincent      Teemu Virolainen \n",
      " Christian Wennberg    Maarten Wolf   \n",
      "                           and the project leaders:\n",
      "        Mark Abraham, Berk Hess, Erik Lindahl, and David van der Spoel\n",
      "\n",
      "Copyright (c) 1991-2000, University of Groningen, The Netherlands.\n",
      "Copyright (c) 2001-2018, The GROMACS development team at\n",
      "Uppsala University, Stockholm University and\n",
      "the Royal Institute of Technology, Sweden.\n",
      "check out http://www.gromacs.org for more information.\n",
      "\n",
      "GROMACS is free software; you can redistribute it and/or modify it\n",
      "under the terms of the GNU Lesser General Public License\n",
      "as published by the Free Software Foundation; either version 2.1\n",
      "of the License, or (at your option) any later version.\n",
      "\n",
      "GROMACS:      gmx mdrun, version 2019.1\n",
      "Executable:   /Users/quachcd/opt/anaconda3/envs/general/bin/gmx\n",
      "Data prefix:  /Users/quachcd/opt/anaconda3/envs/general\n",
      "Working dir:  /Users/quachcd/Documents/dev/gmso_showcase/ethane_example/simulations/gromacs\n",
      "Command line:\n",
      "  gmx mdrun -v -deffnm em -s em.tpr\n",
      "\n",
      "\n",
      "-------------------------------------------------------\n",
      "Program:     gmx mdrun, version 2019.1\n",
      "Source file: src/gromacs/commandline/cmdlineparser.cpp (line 276)\n",
      "Function:    void gmx::CommandLineParser::parse(int *, char **)\n",
      "\n",
      "Error in user input:\n",
      "Invalid command-line options\n",
      "  In command-line option -s\n",
      "    File 'em.tpr' does not exist or is not accessible.\n",
      "    The file could not be opened.\n",
      "      Reason: No such file or directory\n",
      "      (call to fopen() returned error code 2)\n",
      "\n",
      "For more information and tips for troubleshooting, please check the GROMACS\n",
      "website at http://www.gromacs.org/Documentation/Errors\n",
      "-------------------------------------------------------\n"
     ]
    }
   ],
   "source": [
    "%cd ./simulations/gromacs/\n",
    "!gmx grompp -v -f em.mdp -p out.top -c out.gro -o em.tpr \n",
    "!gmx mdrun -v -deffnm em -s em.tprt\n"
   ]
  },
  {
   "cell_type": "code",
   "execution_count": 20,
   "metadata": {},
   "outputs": [
    {
     "data": {
      "text/plain": [
       "unyt_array([7.13999987, 7.93800011, 6.646     ], 'Å')"
      ]
     },
     "execution_count": 20,
     "metadata": {},
     "output_type": "execute_result"
    }
   ],
   "source": [
    "top.box.lengths"
   ]
  },
  {
   "cell_type": "code",
   "execution_count": null,
   "metadata": {},
   "outputs": [],
   "source": []
  }
 ],
 "metadata": {
  "kernelspec": {
   "display_name": "Python 3",
   "language": "python",
   "name": "python3"
  },
  "language_info": {
   "codemirror_mode": {
    "name": "ipython",
    "version": 3
   },
   "file_extension": ".py",
   "mimetype": "text/x-python",
   "name": "python",
   "nbconvert_exporter": "python",
   "pygments_lexer": "ipython3",
   "version": "3.7.8"
  }
 },
 "nbformat": 4,
 "nbformat_minor": 4
}
