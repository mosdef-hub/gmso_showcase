{
 "cells": [
  {
   "cell_type": "code",
   "execution_count": 9,
   "metadata": {},
   "outputs": [
    {
     "data": {
      "text/markdown": [
       "[![Binder](https://mybinder.org/badge_logo.svg)](https://mybinder.org/v2/gh/umesh-timalsina/gmso_showcase/master)\n",
       "![Build and Cache Docker Image](https://github.com/umesh-timalsina/gmso_showcase/workflows/Build%20and%20Cache%20Docker%20Image/badge.svg)\n",
       "[![License: MIT](https://img.shields.io/badge/License-MIT-yellow.svg)](https://opensource.org/licenses/MIT)\n",
       "## GMSO Show Case\n",
       "This repository contains a collection of interactive notebooks to showcase current features and capabilities of [gmso](https://github.com/mosdef-hub/gmso).\n",
       "\n",
       "For further information visit the `gmso` documentation at https://gmso.mosdef.org. \n",
       "\n",
       "### Contents:\n",
       "1. [structures.ipynb](./notebooks/structures.ipynb): Demos the core data structures and design decisions in gmso.\n",
       "2. [ethane_example.ipynb](./notebooks/ethane_example.ipynb): Demos a simulation workflow using features in gmso.\n",
       "\n",
       "## Usage\n",
       "Clone this repository and create a new conda environment from the file [environment.yml](./environment.yml) and start jupyter.\n",
       "\n",
       "```shell script\n",
       "$ git clone https://github.com/umesh-timalsina/gmso_showcase && cd gmso_showcase\n",
       "$ conda env create --file environment.yml\n",
       "$ jupyter notebook\n",
       "```\n",
       "\n",
       "Alternatively, you can directly launch this repository in [MyBinder](https://mybinder.org/v2/gh/umesh-timalsina/gmso_showcase/master).\n",
       "\n",
       "\n"
      ],
      "text/plain": [
       "<IPython.core.display.Markdown object>"
      ]
     },
     "metadata": {},
     "output_type": "display_data"
    }
   ],
   "source": [
    "from IPython.display import display, Markdown\n",
    "\n",
    "with open('README.md', 'r') as readme:\n",
    "    content = readme.read()\n",
    "\n",
    "display(Markdown(content))"
   ]
  }
 ],
 "metadata": {
  "kernelspec": {
   "display_name": "Python 3",
   "language": "python",
   "name": "python3"
  },
  "language_info": {
   "codemirror_mode": {
    "name": "ipython",
    "version": 3
   },
   "file_extension": ".py",
   "mimetype": "text/x-python",
   "name": "python",
   "nbconvert_exporter": "python",
   "pygments_lexer": "ipython3",
   "version": "3.7.8"
  }
 },
 "nbformat": 4,
 "nbformat_minor": 4
}
