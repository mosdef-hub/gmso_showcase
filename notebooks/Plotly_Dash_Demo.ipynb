{
 "cells": [
  {
   "cell_type": "markdown",
   "id": "curious-engagement",
   "metadata": {},
   "source": [
    "# Workflow for Visualization of GMSO Topology Objects\n",
    "21-03-30 <br>\n",
    "Cal Craven<br>\n",
    "<br>\n",
    "This workflow uses some additional libraries beyond the typical [MoSDeF](https://mosdef.org/) installations to provide an example for visualizing gmso topologies. The accessibility of the components of these objects allows for conversion to dicts that dash plotly uses for interactive visualizations. For more information on using interactive dash features, see this [link](https://dash.plotly.com/).  "
   ]
  },
  {
   "cell_type": "code",
   "execution_count": 2,
   "id": "laden-filling",
   "metadata": {},
   "outputs": [
    {
     "name": "stderr",
     "output_type": "stream",
     "text": [
      "/Users/calcraven/miniconda3/envs/visual37/lib/python3.7/site-packages/ipykernel/ipkernel.py:283: DeprecationWarning: `should_run_async` will not call `transform_cell` automatically in the future. Please pass the result to `transformed_cell` argument and any exception that happen during thetransform in `preprocessing_exc_tuple` in IPython 7.17 and above.\n",
      "  and should_run_async(code)\n"
     ]
    }
   ],
   "source": [
    "# imports\n",
    "import warnings \n",
    "warnings.filterwarnings('ignore')\n",
    "\n",
    "import unyt\n",
    "import numpy as np\n",
    "import networkx as nx\n",
    "import matplotlib.pyplot as plt\n",
    "import pandas as pd\n",
    "\n",
    "import dash\n",
    "import dash_core_components as dcc\n",
    "import dash_html_components as html\n",
    "import plotly.express as px\n",
    "import dash_cytoscape as cyto\n",
    "import dash_table\n",
    "from dash.dependencies import Input, Output\n",
    "import json\n",
    "from jupyter_dash import JupyterDash\n",
    "\n",
    "import mbuild as mb\n",
    "import foyer \n",
    "import gmso\n",
    "from gmso.external import from_parmed\n",
    "from gmso.external.convert_networkx import to_networkx\n",
    "\n",
    "import pandas_convert\n",
    "\n",
    "warnings.filterwarnings('ignore')"
   ]
  },
  {
   "cell_type": "code",
   "execution_count": 4,
   "id": "challenging-people",
   "metadata": {},
   "outputs": [],
   "source": [
    "#Use JuypterDash to detect the proxy configuration\n",
    "JupyterDash.infer_jupyter_proxy_config()"
   ]
  },
  {
   "cell_type": "markdown",
   "id": "damaged-sport",
   "metadata": {},
   "source": [
    "There are many ways to build a molecule using `mBuild`, for more information see the [mBuild documentation](https://mbuild.mosdef.org/en/stable/). This is a simple method of converting building a structure using a smile string."
   ]
  },
  {
   "cell_type": "code",
   "execution_count": 5,
   "id": "widespread-corps",
   "metadata": {},
   "outputs": [
    {
     "data": {
      "application/3dmoljs_load.v0": "<div id=\"3dmolviewer_161792692787946\"  style=\"position: relative; width: 640px; height: 480px\">\n        <p id=\"3dmolwarning_161792692787946\" style=\"background-color:#ffcccc;color:black\">You appear to be running in JupyterLab (or JavaScript failed to load for some other reason).  You need to install the 3dmol extension: <br>\n        <tt>jupyter labextension install jupyterlab_3dmol</tt></p>\n        </div>\n<script>\n\nvar loadScriptAsync = function(uri){\n  return new Promise((resolve, reject) => {\n    var tag = document.createElement('script');\n    tag.src = uri;\n    tag.async = true;\n    tag.onload = () => {\n      resolve();\n    };\n  var firstScriptTag = document.getElementsByTagName('script')[0];\n  firstScriptTag.parentNode.insertBefore(tag, firstScriptTag);\n});\n};\n\nif(typeof $3Dmolpromise === 'undefined') {\n$3Dmolpromise = null;\n  $3Dmolpromise = loadScriptAsync('https://3dmol.csb.pitt.edu/build/3Dmol.js');\n}\n\nvar viewer_161792692787946 = null;\nvar warn = document.getElementById(\"3dmolwarning_161792692787946\");\nif(warn) {\n    warn.parentNode.removeChild(warn);\n}\n$3Dmolpromise.then(function() {\nviewer_161792692787946 = $3Dmol.createViewer($(\"#3dmolviewer_161792692787946\"),{backgroundColor:\"white\"});\n\tviewer_161792692787946.addModel(\"@<TRIPOS>MOLECULE\\nRES\\n18 18 1 0 1\\nSMALL\\nNO_CHARGES\\n@<TRIPOS>CRYSIN\\n   13.4428     9.6082     5.6709    90.0000    90.0000    90.0000  1  1\\n@<TRIPOS>ATOM\\n       1 C            1.3810    -0.2021     0.0127 C             1 RES     \\n       2 C            0.8524     1.0866     0.0026 C             1 RES     \\n       3 C           -0.5350     1.2819     0.0173 C             1 RES     \\n       4 C           -1.4126     0.1886    -0.0344 C             1 RES     \\n       5 C           -0.8561    -1.1001    -0.0080 C             1 RES     \\n       6 C            0.5252    -1.2958     0.0190 C             1 RES     \\n       7 C           -2.8676     0.4205    -0.1672 C             1 RES     \\n       8 C           -3.7639    -0.5688    -0.3089 C             1 RES     \\n       9 C           -5.2041    -0.3246    -0.4942 C             1 RES     \\n      10 O           -5.9864    -1.2650    -0.6127 O             1 RES     \\n      11 H            2.4564    -0.3571     0.0217 H             1 RES     \\n      12 H            1.5232     1.9417    -0.0281 H             1 RES     \\n      13 H           -0.9129     2.3012     0.0582 H             1 RES     \\n      14 H           -1.4789    -1.9887    -0.0152 H             1 RES     \\n      15 H            0.9232    -2.3070     0.0280 H             1 RES     \\n      16 H           -3.1881     1.4603    -0.1919 H             1 RES     \\n      17 H           -3.5052    -1.6190    -0.3151 H             1 RES     \\n      18 H           -5.5342     0.7235    -0.5249 H             1 RES     \\n@<TRIPOS>BOND\\n       1       15        6 1\\n       2        7        4 1\\n       3        9       10 1\\n       4       13        3 1\\n       5        9        8 1\\n       6        8        7 1\\n       7        8       17 1\\n       8       14        5 1\\n       9        6        5 1\\n      10       12        2 1\\n      11        3        4 1\\n      12        7       16 1\\n      13        9       18 1\\n      14        2        1 1\\n      15        3        2 1\\n      16        6        1 1\\n      17        4        5 1\\n      18       11        1 1\\n@<TRIPOS>SUBSTRUCTURE\\n       1 RES             1 RESIDUE    0 **** ROOT      0\\n\",\"mol2\");\n\tviewer_161792692787946.setStyle({\"stick\": {\"radius\": 0.2, \"color\": \"grey\"}, \"sphere\": {\"scale\": 0.3, \"colorscheme\": {}}});\n\tviewer_161792692787946.zoomTo();\nviewer_161792692787946.render();\n});\n</script>",
      "text/html": [
       "<div id=\"3dmolviewer_161792692787946\"  style=\"position: relative; width: 640px; height: 480px\">\n",
       "        <p id=\"3dmolwarning_161792692787946\" style=\"background-color:#ffcccc;color:black\">You appear to be running in JupyterLab (or JavaScript failed to load for some other reason).  You need to install the 3dmol extension: <br>\n",
       "        <tt>jupyter labextension install jupyterlab_3dmol</tt></p>\n",
       "        </div>\n",
       "<script>\n",
       "\n",
       "var loadScriptAsync = function(uri){\n",
       "  return new Promise((resolve, reject) => {\n",
       "    var tag = document.createElement('script');\n",
       "    tag.src = uri;\n",
       "    tag.async = true;\n",
       "    tag.onload = () => {\n",
       "      resolve();\n",
       "    };\n",
       "  var firstScriptTag = document.getElementsByTagName('script')[0];\n",
       "  firstScriptTag.parentNode.insertBefore(tag, firstScriptTag);\n",
       "});\n",
       "};\n",
       "\n",
       "if(typeof $3Dmolpromise === 'undefined') {\n",
       "$3Dmolpromise = null;\n",
       "  $3Dmolpromise = loadScriptAsync('https://3dmol.csb.pitt.edu/build/3Dmol.js');\n",
       "}\n",
       "\n",
       "var viewer_161792692787946 = null;\n",
       "var warn = document.getElementById(\"3dmolwarning_161792692787946\");\n",
       "if(warn) {\n",
       "    warn.parentNode.removeChild(warn);\n",
       "}\n",
       "$3Dmolpromise.then(function() {\n",
       "viewer_161792692787946 = $3Dmol.createViewer($(\"#3dmolviewer_161792692787946\"),{backgroundColor:\"white\"});\n",
       "\tviewer_161792692787946.addModel(\"@<TRIPOS>MOLECULE\\nRES\\n18 18 1 0 1\\nSMALL\\nNO_CHARGES\\n@<TRIPOS>CRYSIN\\n   13.4428     9.6082     5.6709    90.0000    90.0000    90.0000  1  1\\n@<TRIPOS>ATOM\\n       1 C            1.3810    -0.2021     0.0127 C             1 RES     \\n       2 C            0.8524     1.0866     0.0026 C             1 RES     \\n       3 C           -0.5350     1.2819     0.0173 C             1 RES     \\n       4 C           -1.4126     0.1886    -0.0344 C             1 RES     \\n       5 C           -0.8561    -1.1001    -0.0080 C             1 RES     \\n       6 C            0.5252    -1.2958     0.0190 C             1 RES     \\n       7 C           -2.8676     0.4205    -0.1672 C             1 RES     \\n       8 C           -3.7639    -0.5688    -0.3089 C             1 RES     \\n       9 C           -5.2041    -0.3246    -0.4942 C             1 RES     \\n      10 O           -5.9864    -1.2650    -0.6127 O             1 RES     \\n      11 H            2.4564    -0.3571     0.0217 H             1 RES     \\n      12 H            1.5232     1.9417    -0.0281 H             1 RES     \\n      13 H           -0.9129     2.3012     0.0582 H             1 RES     \\n      14 H           -1.4789    -1.9887    -0.0152 H             1 RES     \\n      15 H            0.9232    -2.3070     0.0280 H             1 RES     \\n      16 H           -3.1881     1.4603    -0.1919 H             1 RES     \\n      17 H           -3.5052    -1.6190    -0.3151 H             1 RES     \\n      18 H           -5.5342     0.7235    -0.5249 H             1 RES     \\n@<TRIPOS>BOND\\n       1       15        6 1\\n       2        7        4 1\\n       3        9       10 1\\n       4       13        3 1\\n       5        9        8 1\\n       6        8        7 1\\n       7        8       17 1\\n       8       14        5 1\\n       9        6        5 1\\n      10       12        2 1\\n      11        3        4 1\\n      12        7       16 1\\n      13        9       18 1\\n      14        2        1 1\\n      15        3        2 1\\n      16        6        1 1\\n      17        4        5 1\\n      18       11        1 1\\n@<TRIPOS>SUBSTRUCTURE\\n       1 RES             1 RESIDUE    0 **** ROOT      0\\n\",\"mol2\");\n",
       "\tviewer_161792692787946.setStyle({\"stick\": {\"radius\": 0.2, \"color\": \"grey\"}, \"sphere\": {\"scale\": 0.3, \"colorscheme\": {}}});\n",
       "\tviewer_161792692787946.zoomTo();\n",
       "viewer_161792692787946.render();\n",
       "});\n",
       "</script>"
      ]
     },
     "metadata": {},
     "output_type": "display_data"
    },
    {
     "data": {
      "text/plain": [
       "<py3Dmol.view at 0x7f8615ca8510>"
      ]
     },
     "execution_count": 5,
     "metadata": {},
     "output_type": "execute_result"
    }
   ],
   "source": [
    "#Build an mBuild compound from smiles strings\n",
    "smiles = 'C1=CC=C(C=C1)C=CC=O'\n",
    "molecule = mb.load(smiles, smiles=True)\n",
    "molecule.visualize()"
   ]
  },
  {
   "cell_type": "markdown",
   "id": "beautiful-spiritual",
   "metadata": {},
   "source": [
    "Any method you can use to generate a `gmso.Topology` class object will work for the visualization. Please raise an [issue](https://github.com/mosdef-hub/gmso/issues) if a gmso topologies is not being visualized correctly. In this case, we will take the `mBuild` object `molecule` and convert it to a gmso.Topology object by converting to a parmed object through a `Foyer` xml object."
   ]
  },
  {
   "cell_type": "code",
   "execution_count": 6,
   "id": "front-factory",
   "metadata": {},
   "outputs": [],
   "source": [
    "#Atomtype using foyer and convert to gmso through parmed\n",
    "oplsaa = foyer.Forcefield(name='oplsaa')\n",
    "pmd_aa = oplsaa.apply(molecule, \n",
    "                      assert_bond_params = False,\n",
    "                      assert_angle_params = False,\n",
    "                      assert_dihedral_params = False)\n",
    "topology = from_parmed(pmd_aa)"
   ]
  },
  {
   "cell_type": "code",
   "execution_count": 7,
   "id": "tracked-ancient",
   "metadata": {
    "scrolled": false
   },
   "outputs": [
    {
     "data": {
      "text/html": [
       "\n",
       "        <iframe\n",
       "            width=\"100%\"\n",
       "            height=\"650\"\n",
       "            src=\"http://127.0.0.1:8050/\"\n",
       "            frameborder=\"0\"\n",
       "            allowfullscreen\n",
       "        ></iframe>\n",
       "        "
      ],
      "text/plain": [
       "<IPython.lib.display.IFrame at 0x7f85f7316d10>"
      ]
     },
     "metadata": {},
     "output_type": "display_data"
    },
    {
     "name": "stdout",
     "output_type": "stream",
     "text": [
      "\u001b[1;31m---------------------------------------------------------------------------\u001b[0m\n",
      "\u001b[1;31mNameError\u001b[0m                                 Traceback (most recent call last)\n",
      "\u001b[1;32m<ipython-input-7-9858c857eef3>\u001b[0m in \u001b[0;36mupdate_datatable\u001b[1;34m(input_value='atom_type')\u001b[0m\n",
      "\u001b[0;32m     98\u001b[0m \u001b[1;32mdef\u001b[0m \u001b[0mupdate_datatable\u001b[0m\u001b[1;33m(\u001b[0m\u001b[0minput_value\u001b[0m\u001b[1;33m)\u001b[0m\u001b[1;33m:\u001b[0m\u001b[1;33m\u001b[0m\u001b[1;33m\u001b[0m\u001b[0m\n",
      "\u001b[0;32m     99\u001b[0m     \u001b[1;32mif\u001b[0m \u001b[0minput_value\u001b[0m \u001b[1;33m==\u001b[0m \u001b[1;34m'atom_type'\u001b[0m\u001b[1;33m:\u001b[0m\u001b[1;33m\u001b[0m\u001b[1;33m\u001b[0m\u001b[0m\n",
      "\u001b[1;32m--> 100\u001b[1;33m         \u001b[0mdf\u001b[0m \u001b[1;33m=\u001b[0m \u001b[0mdemo_utils\u001b[0m\u001b[1;33m.\u001b[0m\u001b[0matomtypes_to_datatables\u001b[0m\u001b[1;33m(\u001b[0m\u001b[0mgraph\u001b[0m\u001b[1;33m,\u001b[0m\u001b[0mlabels\u001b[0m\u001b[1;33m=\u001b[0m\u001b[1;32mNone\u001b[0m\u001b[1;33m,\u001b[0m\u001b[0matom_objects\u001b[0m \u001b[1;33m=\u001b[0m \u001b[1;32mTrue\u001b[0m\u001b[1;33m)\u001b[0m\u001b[1;33m\u001b[0m\u001b[1;33m\u001b[0m\u001b[0m\n",
      "\u001b[0m        \u001b[0;36mdf\u001b[0m \u001b[1;34m= \u001b[1;36mundefined\u001b[0m\u001b[0m\u001b[1;34m\n",
      "        \u001b[0m\u001b[1;36mglobal\u001b[0m \u001b[0;36mdemo_utils.atomtypes_to_datatables\u001b[0m \u001b[1;34m= \u001b[1;36mundefined\u001b[0m\u001b[0m\u001b[1;34m\n",
      "        \u001b[0m\u001b[1;36mglobal\u001b[0m \u001b[0;36mgraph\u001b[0m \u001b[1;34m= <networkx.classes.graph.Graph object at 0x7f860c6d2b90>\u001b[0m\u001b[1;34m\n",
      "        \u001b[0m\u001b[1;36mglobal\u001b[0m \u001b[0;36mlabels\u001b[0m \u001b[1;34m= \u001b[1;36mundefined\u001b[0m\u001b[0m\u001b[1;34m\n",
      "        \u001b[0m\u001b[1;36mglobal\u001b[0m \u001b[0;36matom_objects\u001b[0m \u001b[1;34m= \u001b[1;36mundefined\u001b[0m\u001b[0m\n",
      "\u001b[0;32m    101\u001b[0m     \u001b[1;32melif\u001b[0m \u001b[0minput_value\u001b[0m \u001b[1;33m==\u001b[0m \u001b[1;34m'bond_type'\u001b[0m\u001b[1;33m:\u001b[0m\u001b[1;33m\u001b[0m\u001b[1;33m\u001b[0m\u001b[0m\n",
      "\u001b[0;32m    102\u001b[0m         \u001b[0mdf\u001b[0m \u001b[1;33m=\u001b[0m \u001b[0mdemo_utils\u001b[0m\u001b[1;33m.\u001b[0m\u001b[0mbondtypes_to_datatables\u001b[0m\u001b[1;33m(\u001b[0m\u001b[0mgraph\u001b[0m\u001b[1;33m,\u001b[0m\u001b[0mtopology\u001b[0m\u001b[1;33m,\u001b[0m\u001b[0mlabels\u001b[0m\u001b[1;33m=\u001b[0m\u001b[1;32mNone\u001b[0m\u001b[1;33m,\u001b[0m\u001b[0matom_objects\u001b[0m \u001b[1;33m=\u001b[0m \u001b[1;32mTrue\u001b[0m\u001b[1;33m)\u001b[0m\u001b[1;33m\u001b[0m\u001b[1;33m\u001b[0m\u001b[0m\n",
      "\n",
      "\u001b[1;31mNameError\u001b[0m: name 'demo_utils' is not defined\n",
      "\n"
     ]
    }
   ],
   "source": [
    "#Dash Plotly representation of the molecule\n",
    "app = JupyterDash(__name__)\n",
    "\n",
    "#determines what color each node name is shown as\n",
    "color_dictionary = {'\"C\"':\"#8C92AC\",'\"O\"':\"red\",'\"H\"':\"#848482\",'\"N\"':\"blue\",'\"Cl\"':'green'}\n",
    "color_selection = []\n",
    "for key,value in color_dictionary.items():\n",
    "    color_selection.append({'selector': \"[element = \" +  str(key) + \"]\",\n",
    "                            'style': {'background-color': str(value),'shape': 'circle'}})\n",
    "\n",
    "#this gives a base layout of how the molecule will be shown initially.    \n",
    "graph = to_networkx(topology)\n",
    "layout = nx.drawing.layout.kamada_kawai_layout(graph)\n",
    "\n",
    "#elements is the dict that holds information about what to store in each node\n",
    "elements = []\n",
    "nodeids = {}\n",
    "for i,node in enumerate(graph.nodes):\n",
    "    elements.append({'data': {'id': str(i) + ': ' + node.name, \n",
    "                               'label': node.name + '(' + str(i) + ')',\n",
    "                              'element': node.name,\n",
    "                              'hash': node.__hash__(),\n",
    "                              'index' : i},\n",
    "                     'classes': '',\n",
    "                     'position': {'x': layout[node][0]*300,'y': layout[node][1]*300},\n",
    "                     'size': 200})\n",
    "    nodeids[node] = str(i) + ': ' + node.name\n",
    "\n",
    "for edge in graph.edges:\n",
    "    elements.append({'data': {'source': nodeids[edge[0]], 'target': nodeids[edge[1]]}, 'classes': 'red'})\n",
    "       \n",
    "app.layout = html.Div([\n",
    "    html.P(\"Molecular Visualization:\"),\n",
    "    #This is the format of the selectable dropdown tab\n",
    "    dcc.Dropdown(\n",
    "        id='parameter-dropdown',\n",
    "        options=[\n",
    "            {'label': 'Atom Types', 'value': 'atom_type'},\n",
    "            {'label': 'Bond Types', 'value': 'bond_type'},\n",
    "            {'label': 'Angle Types', 'value': 'angle_type'},\n",
    "            {'label': 'Dihedral Types', 'value': 'dihedral_type'}\n",
    "        ],\n",
    "        value='atom_type'),\n",
    "    html.Div([\n",
    "        #This is the format of the molecule visualization\n",
    "        cyto.Cytoscape(\n",
    "            id='cytoscape',\n",
    "            elements= elements,\n",
    "            style={'width': '500px', 'height': '500px'},\n",
    "            layout={'name':'preset'},\n",
    "            stylesheet=[\n",
    "            {\n",
    "                'selector': 'node',\n",
    "                'style': {\n",
    "                    'label': 'data(label)', 'width': \"50%\", 'height': \"50%\"\n",
    "                }\n",
    "            }\n",
    "        ] + color_selection \n",
    "        )],\n",
    "    style={'width': '50%', 'display': 'inline-block', 'margin-right': '20px',\n",
    "          'borderBottom': 'thin lightgrey solid',\n",
    "          'borderTop': 'thin lightgrey solid',\n",
    "          'backgroundColor': 'rgb(250, 250, 250)',\n",
    "          'vertical-align': 'top'}\n",
    "    ),    \n",
    "    html.Div([\n",
    "        #this is the format of the table showing the types of the gmso.Topology\n",
    "        dash_table.DataTable(\n",
    "            id='table-of-parameters',\n",
    "            style_as_list_view=True,\n",
    "            style_cell={\n",
    "                'whiteSpace': 'normal',\n",
    "                'height': 'auto',\n",
    "                'lineHeight': '15px'\n",
    "            },\n",
    "            style_table={'overflowX': 'auto','overflowY': 'auto',\n",
    "                        'height': '500px', 'width': '400px'},\n",
    "            style_data_conditional=[\n",
    "            {\n",
    "            'if': {'row_index': 'even'},\n",
    "            'backgroundColor': 'rgb(248, 248, 248)'\n",
    "            }],\n",
    "            style_header={\n",
    "            'backgroundColor': 'rgb(230, 230, 230)',\n",
    "            'fontWeight': 'bold'\n",
    "            }\n",
    "        )\n",
    "    ],\n",
    "    style={'width': '45%', 'display': 'inline-block', 'padding': '0 0'}\n",
    "    )\n",
    "])\n",
    "\n",
    "#Interactive components\n",
    "@app.callback(\n",
    "    Output('table-of-parameters', 'columns'),\n",
    "    Output('table-of-parameters', 'data'),\n",
    "    Input('parameter-dropdown','value'))\n",
    "def update_datatable(input_value):\n",
    "    if input_value == 'atom_type':\n",
    "        df = demo_utils.atomtypes_to_datatables(graph,labels=None,atom_objects = True)\n",
    "    elif input_value == 'bond_type':\n",
    "        df = demo_utils.bondtypes_to_datatables(graph,topology,labels=None,atom_objects = True)\n",
    "    elif input_value == 'angle_type':\n",
    "        df = demo_utils.angletypes_to_datatables(graph,topology,labels=None,atom_objects = True)\n",
    "    elif input_value == 'dihedral_type':\n",
    "        df = demo_utils.dihedraltypes_to_datatables(graph,topology,labels=None,atom_objects = True)\n",
    "    return([{\"name\": i, \"id\": i} for i in df.columns],\n",
    "          df.to_dict('records'))\n",
    "\n",
    "@app.callback(Output('table-of-parameters', 'style_data_conditional'),\n",
    "              Input('cytoscape', 'tapNodeData'))\n",
    "def displayTapNodeData(data):\n",
    "    try:\n",
    "        return ([{\n",
    "            'if': {'filter_query': '{atom_id} = ' + str(data['hash'])},\n",
    "            'backgroundColor': 'tomato',\n",
    "            'color': 'white'},\n",
    "            {'if': {'filter_query': '{atom1_id} = ' + str(data['hash']) +\n",
    "                                ' || {atom2_id} = ' + str(data['hash']),\n",
    "                   'column_id': ''},\n",
    "            'backgroundColor': 'tomato',\n",
    "            'color': 'white'},\n",
    "            {'if': {'filter_query': '{atom1_id} = ' + str(data['hash']) +\n",
    "                                ' || {atom2_id} = ' + str(data['hash']) + \n",
    "                                ' || {atom3_id} = ' + str(data['hash']) \n",
    "                   },\n",
    "            'backgroundColor': 'tomato',\n",
    "            'color': 'white'},\n",
    "            {'if': {'filter_query': '{atom1_id} = ' + str(data['hash']) +\n",
    "                                ' || {atom2_id} = ' + str(data['hash']) + \n",
    "                                ' || {atom3_id} = ' + str(data['hash']) +\n",
    "                                ' || {atom4_id} = ' + str(data['hash']) \n",
    "                   },\n",
    "            'backgroundColor': 'tomato',\n",
    "            'color': 'white'}\n",
    "\n",
    "        ])\n",
    "    except TypeError:\n",
    "        return\n",
    "\n",
    "#In order to run this at on a local port, replace the line below with mode = \"external\"\n",
    "app.run_server(mode = \"inline\")"
   ]
  },
  {
   "cell_type": "markdown",
   "id": "cardiovascular-parliament",
   "metadata": {},
   "source": [
    "You can select nodes on the plotly cytoscape map to allow them to be highlighted in the datatable to the right. One of the nicest features of a `gmso.Topology` object is that it is both picklable, and can be read out to a `Pandas Dataframe`. For more information on using these, see this [link](https://www.tutorialspoint.com/python_pandas/python_pandas_dataframe.htm). Additionally, you can rearrange the molecule to be able to orient it as you see fit by clicking and dragging each node."
   ]
  },
  {
   "cell_type": "code",
   "execution_count": null,
   "id": "international-henry",
   "metadata": {},
   "outputs": [],
   "source": []
  }
 ],
 "metadata": {
  "kernelspec": {
   "display_name": "Python 3",
   "language": "python",
   "name": "python3"
  },
  "language_info": {
   "codemirror_mode": {
    "name": "ipython",
    "version": 3
   },
   "file_extension": ".py",
   "mimetype": "text/x-python",
   "name": "python",
   "nbconvert_exporter": "python",
   "pygments_lexer": "ipython3",
   "version": "3.7.8"
  }
 },
 "nbformat": 4,
 "nbformat_minor": 5
}
