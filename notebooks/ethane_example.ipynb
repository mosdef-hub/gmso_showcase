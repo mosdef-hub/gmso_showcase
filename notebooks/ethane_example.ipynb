{
 "cells": [
  {
   "cell_type": "markdown",
   "metadata": {},
   "source": [
    "# Paramterized Ethane Example"
   ]
  },
  {
   "cell_type": "code",
   "execution_count": null,
   "metadata": {
    "scrolled": true
   },
   "outputs": [],
   "source": [
    "import mbuild as mb \n",
    "import mbuild.recipes \n",
    "import foyer \n",
    "import gmso \n",
    "\n",
    "from gmso.external import from_parmed\n",
    "\n",
    "import warnings \n",
    "warnings.filterwarnings('ignore')"
   ]
  },
  {
   "cell_type": "markdown",
   "metadata": {},
   "source": [
    "## The Ideal MoSDeF Workflow\n",
    "\n",
    "**mBuild -> Foyer -> GMSO** \n",
    "\n",
    "- **mBuild**: Constructing the chemical system \n",
    "- **Foyer**: Atomtype and create a parameterized system\n",
    "- **GMSO**: Store the information related to the chemical system and write out to corresponding file formats.\n",
    "\n",
    "However, as of right now, integrating **GMSO** into **Foyer** is still WIP in progress. Hence, for demonstration purpose, the current workflow to create a typed `gmso.Topology` is  \n",
    "**mBuild -> Foyer -> Parmed -> GMOS**"
   ]
  },
  {
   "cell_type": "code",
   "execution_count": null,
   "metadata": {},
   "outputs": [],
   "source": [
    "from mbuild.lib.molecules import Ethane\n",
    "\n",
    "mb_ethane = Ethane()\n",
    "oplsaa = foyer.Forcefield(name='oplsaa')\n",
    "\n",
    "pmd_ethane = oplsaa.apply(mb_ethane)\n",
    "top = from_parmed(pmd_ethane)\n",
    "top.box = gmso.Box([10, 10, 10])\n",
    "top.name = \"Ethane\""
   ]
  },
  {
   "cell_type": "markdown",
   "metadata": {},
   "source": [
    "The `Topology` created will contain all the information about chemical system:\n",
    "- Atoms each with AtomType\n",
    "- Connections (bonds, angle, dihedral) each with its `connection_members` and `ConnectionType`"
   ]
  },
  {
   "cell_type": "code",
   "execution_count": null,
   "metadata": {
    "scrolled": false
   },
   "outputs": [],
   "source": [
    "for site in top.sites:\n",
    "    print('Atom name, type: {}, {}'.format(site.name, site.atom_type.name))\n",
    "\n",
    "print()\n",
    "for bond in top.bonds:\n",
    "    print('Bond name, connection members: {}\\n {}'.format(bond.name, bond.connection_members))"
   ]
  },
  {
   "cell_type": "markdown",
   "metadata": {},
   "source": [
    "We can take a close look at what are stored in each object:\n",
    "- **`Atom`** \n",
    "- **`Bond`** (other types of **`Connection`** have similar construct) \n",
    "- **`AtomType`** (other types of **`Potential`** have similar construct)\n",
    "- **`PotentialExpression`**"
   ]
  },
  {
   "cell_type": "markdown",
   "metadata": {},
   "source": [
    "**`Atom`**"
   ]
  },
  {
   "cell_type": "code",
   "execution_count": null,
   "metadata": {
    "scrolled": true
   },
   "outputs": [],
   "source": [
    "top.sites[0].dict(by_alias=True)"
   ]
  },
  {
   "cell_type": "markdown",
   "metadata": {},
   "source": [
    "**`Bond`**"
   ]
  },
  {
   "cell_type": "code",
   "execution_count": null,
   "metadata": {},
   "outputs": [],
   "source": [
    "top.bonds[0].dict(by_alias=True)"
   ]
  },
  {
   "cell_type": "markdown",
   "metadata": {},
   "source": [
    "**`AtomType`**"
   ]
  },
  {
   "cell_type": "code",
   "execution_count": null,
   "metadata": {
    "scrolled": true
   },
   "outputs": [],
   "source": [
    "top.sites[0].atom_type.dict(by_alias=True)"
   ]
  },
  {
   "cell_type": "markdown",
   "metadata": {},
   "source": [
    "**`PotentialExpression`**"
   ]
  },
  {
   "cell_type": "code",
   "execution_count": null,
   "metadata": {
    "scrolled": false
   },
   "outputs": [],
   "source": [
    "potential_object = top.sites[0].atom_type.potential_expression\n",
    "print('Potential expression: {}'.format(potential_object.expression))\n",
    "print('Independent variables: {}'.format(potential_object.independent_variables))\n",
    "print('Paremeters: {}'.format(potential_object.parameters))"
   ]
  },
  {
   "cell_type": "markdown",
   "metadata": {},
   "source": [
    "## Writers"
   ]
  },
  {
   "cell_type": "code",
   "execution_count": null,
   "metadata": {},
   "outputs": [],
   "source": [
    "from gmso.formats.gro import read_gro, write_gro\n",
    "from gmso.formats.top import write_top\n",
    "from gmso.formats.lammpsdata import write_lammpsdata, read_lammpsdata"
   ]
  },
  {
   "cell_type": "markdown",
   "metadata": {},
   "source": [
    "Once there is a typed `gmso.Topology`, we can write it out to several types of file formats (at least that is our goal). Currently, we can already write out to GROMACS file formats (`.top` and `.gro`) and LAMMPS file format (`.lammps`) "
   ]
  },
  {
   "cell_type": "markdown",
   "metadata": {},
   "source": [
    "**GROMACS**"
   ]
  },
  {
   "cell_type": "code",
   "execution_count": null,
   "metadata": {},
   "outputs": [],
   "source": [
    "# Pending new location\n",
    "write_gro(top, './simulations/gromacs/out.gro')\n",
    "write_top(top, './simulations/gromacs/out.top')"
   ]
  },
  {
   "cell_type": "code",
   "execution_count": null,
   "metadata": {},
   "outputs": [],
   "source": [
    "top.box"
   ]
  },
  {
   "cell_type": "code",
   "execution_count": null,
   "metadata": {
    "scrolled": true
   },
   "outputs": [],
   "source": [
    "# Pending new location\n",
    "# Run a simple energy minimization step\n",
    "%cd ./simulations/gromacs/\n",
    "!gmx grompp -v -f em.mdp -p out.top -c out.gro -o em.tpr \n",
    "!gmx mdrun -v -deffnm em -s em.tpr\n",
    "%cd ../../"
   ]
  },
  {
   "cell_type": "markdown",
   "metadata": {},
   "source": [
    "**LAMMPS**"
   ]
  },
  {
   "cell_type": "code",
   "execution_count": null,
   "metadata": {},
   "outputs": [],
   "source": [
    "# Pending new location \n",
    "write_lammpsdata(top, './simulations/lammps/ethane.lammps')"
   ]
  },
  {
   "cell_type": "code",
   "execution_count": null,
   "metadata": {},
   "outputs": [],
   "source": [
    "# Pending new location \n",
    "# Run a simple energy minimization step\n",
    "%cd ./simulations/lammps/\n",
    "!lmp_mpi -in in.ethane -log minimize.log"
   ]
  }
 ],
 "metadata": {
  "kernelspec": {
   "display_name": "Python 3",
   "language": "python",
   "name": "python3"
  },
  "language_info": {
   "codemirror_mode": {
    "name": "ipython",
    "version": 3
   },
   "file_extension": ".py",
   "mimetype": "text/x-python",
   "name": "python",
   "nbconvert_exporter": "python",
   "pygments_lexer": "ipython3",
   "version": "3.7.8"
  }
 },
 "nbformat": 4,
 "nbformat_minor": 4
}
