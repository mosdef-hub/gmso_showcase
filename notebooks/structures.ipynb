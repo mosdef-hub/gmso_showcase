{
 "cells": [
  {
   "cell_type": "markdown",
   "metadata": {},
   "source": [
    "# Introduction to GMSO's base data structures\n",
    "\n",
    "In this notebook, we will explore the base data strucures, pythonic features and design decisions for the `gmso` package.\n",
    "\n",
    "Particularly, we will cover the following aspects of the package:\n",
    "\n",
    "1. The abstract base classes module\n",
    "2. Extension of abc: Example implementing a new Bead\n",
    "3. Core Classes:\n",
    "    - Sites\n",
    "    - Connections\n",
    "    - Potentials\n",
    "    - Topology\n",
    "    - ForceField\n",
    "4. Module gmso.lib, gmso.formats, gmso.external, gmso.lib\n",
    "4. Potential and Units\n",
    "7. Typed Water System\n",
    "5. XML Schema for GMSO Forefield (focus on unyts(yt.unyt) and functional form (sympy)\n",
    "6. Limitations, future plans"
   ]
  },
  {
   "cell_type": "markdown",
   "metadata": {},
   "source": [
    "## Module gmso.abc\n",
    "This module provides the abstract base classes for all other core data structures used in gmso. Our abstract base classes inherit from [pydantic](https://pydantic-docs.helpmanual.io/)'s `BaseModel` class which provides type hints as well as runtime data validation together with out-of-the-box serialization. The module structure is as follows:\n",
    "```\n",
    "gmso/abc \n",
    "├── abstract_connection.py \n",
    "├── abstract_potential.py \n",
    "├── abstract_site.py \n",
    "├── gmso_base.py \n",
    "```\n",
    "\n",
    "\n",
    "1. [`gmso_base.py`](https://github.com/mosdef-hub/gmso/blob/3ff3829cb4bc492b41e5e520d26d35c09c5338a4/gmso/abc/gmso_base.py): Defines the class `GMSOBase` i.e. The base class for all our other classes that tweaks pydantic's `BaseModel` class to provide an ID based hasing as well as inject's numpydoc style docstrings from the fields of the class.\n",
    "\n",
    "1. [`abstract_site.py`](https://github.com/mosdef-hub/gmso/blob/3ff3829cb4bc492b41e5e520d26d35c09c5338a4/gmso/abc/abstract_site.py): Defines the `Site` class which provides a plain topology site with following features: (a.) name (b.) position (c.) label\n",
    "\n",
    "1. [`abstract_potential.py`](https://github.com/mosdef-hub/gmso/blob/3ff3829cb4bc492b41e5e520d26d35c09c5338a4/gmso/abc/abstract_potential.py): Defines the `AbstractPotential` class which is the base class for our `ParametricPotentials` as well as `PotentialTemplates`.\n",
    "\n",
    "1. [`abstract_connection.py`](https://github.com/mosdef-hub/gmso/blob/3ff3829cb4bc492b41e5e520d26d35c09c5338a4/gmso/abc/abstract_site.py): Defines the `AbstractConnection` class which is the base class for our `Bond`, `Angle`, `Dihedral` and `Improper` classes."
   ]
  },
  {
   "cell_type": "markdown",
   "metadata": {},
   "source": [
    "## Example Implementation: Bead\n",
    "\n",
    "The `Bead` class can now be implemented as a subclass of the abstract `Site` class. We can use the existing attributes from the super class like `name`, `position` etc... and define new attributes and methods for `Bead`. The goal is the consolidation of as many universal characteristics of a generic topology site into a base class (`Site`) and tweak its down-stream usage according to the needs of a particular site(like an `Atom` or a `Bead`). Usage of `Site` to create an `Bead` class is shown below:"
   ]
  },
  {
   "cell_type": "code",
   "execution_count": 23,
   "metadata": {},
   "outputs": [
    {
     "data": {
      "text/plain": [
       "'Bead'"
      ]
     },
     "execution_count": 23,
     "metadata": {},
     "output_type": "execute_result"
    }
   ],
   "source": [
    "import warnings\n",
    "warnings.simplefilter('ignore')\n",
    "import unyt as u\n",
    "from pydantic import Field\n",
    "\n",
    "from gmso.abc.abstract_site import Site\n",
    "\n",
    "\n",
    "class Bead(Site):\n",
    "    __base_doc__ = \"Basic Bead class inheriting from the Site Class\"\n",
    "    mass_: u.unyt_quantity = Field(\n",
    "        default=1.0*u.amu\n",
    "    )\n",
    "    \n",
    "    class Config:\n",
    "        fields = {\n",
    "            'mass_': 'mass'\n",
    "        }\n",
    "        alias_to_fields = {\n",
    "            'mass': 'mass_'\n",
    "        }\n",
    "    \n",
    "my_bead = Bead()\n",
    "my_bead.name  # When you inherit, the attribute(field) `name` is injected as the class name(Bead in this case)"
   ]
  },
  {
   "cell_type": "code",
   "execution_count": 24,
   "metadata": {},
   "outputs": [],
   "source": [
    "# Documentation is injected automatically as well\n",
    "%pdoc Bead"
   ]
  },
  {
   "cell_type": "markdown",
   "metadata": {},
   "source": [
    "## Core Classes\n",
    "In `gmso` we define the following core classes. All of our core classes make use of `gmso.abc` to define a particular site, connection or potential. The module `gmso.core`'s structure is as follows:\n",
    "\n",
    "```\n",
    "gmso/core/\n",
    "├── angle.py\n",
    "├── angle_type.py\n",
    "├── atom.py\n",
    "├── atom_type.py\n",
    "├── bond.py\n",
    "├── bond_type.py\n",
    "├── box.py\n",
    "├── dihedral.py\n",
    "├── dihedral_type.py\n",
    "├── element.py\n",
    "├── forcefield.py\n",
    "├── improper.py\n",
    "├── improper_type.py\n",
    "├── parametric_potential.py\n",
    "└── topology.py\n",
    "```\n",
    "\n",
    "\n",
    "### Sites\n",
    "1. [`atom.py`](https://github.com/mosdef-hub/gmso/blob/3ff3829cb4bc492b41e5e520d26d35c09c5338a4/gmso/core/atom.py): Defines the class `gmso.core.atom.Atom` which inherits from `gmso.abc.abstract_site.Site` to define an `Atom`."
   ]
  },
  {
   "cell_type": "code",
   "execution_count": 3,
   "metadata": {},
   "outputs": [],
   "source": [
    "import json\n",
    "import unyt as u\n",
    "class UnytJsonEncoder(json.JSONEncoder):\n",
    "    def default(self, obj):\n",
    "        if isinstance(obj, u.unyt_array):\n",
    "            return {\n",
    "                    'array': obj.ravel().tolist(),\n",
    "                    'unit': str(obj.units)    \n",
    "            }\n",
    "        \n",
    "        return json.JSONEncoder.default(self, obj)"
   ]
  },
  {
   "cell_type": "code",
   "execution_count": 4,
   "metadata": {},
   "outputs": [
    {
     "name": "stdout",
     "output_type": "stream",
     "text": [
      "('{\\n'\n",
      " '  \"name\": \"atom1\",\\n'\n",
      " '  \"charge\": {\\n'\n",
      " '    \"array\": [\\n'\n",
      " '      3.2043532416e-19\\n'\n",
      " '    ],\\n'\n",
      " '    \"unit\": \"C\"\\n'\n",
      " '  }\\n'\n",
      " '}')\n"
     ]
    }
   ],
   "source": [
    "from gmso.core.atom import Atom\n",
    "from pprint import pprint\n",
    "atom1 = Atom(name='atom1', charge=2.0*u.elementary_charge)\n",
    "atom2 = Atom(name='atom2', charge=1.0*u.elementary_charge)\n",
    "\n",
    "# Dumping the model as json is easy\n",
    "pprint(json.dumps(atom1.dict(by_alias=True, exclude_unset=True), cls=UnytJsonEncoder, indent=2))"
   ]
  },
  {
   "cell_type": "markdown",
   "metadata": {},
   "source": [
    "\n",
    "### Connections\n",
    "1. [`angle.py`](https://github.com/mosdef-hub/gmso/blob/3ff3829cb4bc492b41e5e520d26d35c09c5338a4/gmso/core/angle.py): Defines the class `gmso.core.angle.Angle` which inherits from `gmso.abc.abstract_connection.Connection` to define a 3-partner connection between `Atoms`.\n",
    "\n",
    "2. [`bond.py`](https://github.com/mosdef-hub/gmso/blob/3ff3829cb4bc492b41e5e520d26d35c09c5338a4/gmso/core/bond.py): Defines the class `gmso.core.bond.Bond` which inherits from `gmso.abc.abstract_connection.Connection` to define a 2-partner connection between `Atoms`.\n",
    "\n",
    "3. [`dihedral.py`](https://github.com/mosdef-hub/gmso/blob/3ff3829cb4bc492b41e5e520d26d35c09c5338a4/gmso/core/dihedral.py): Defines the class `gmso.core.dihedral.Dihedral` which inherits from `gmso.abc.abstract_connection.Connection` to define a 4-partner connection(dihedral) between `Atoms`.\n",
    "\n",
    "4. [`improper.py`](https://github.com/mosdef-hub/gmso/blob/3ff3829cb4bc492b41e5e520d26d35c09c5338a4/gmso/core/improper.py): Defines the class `gmso.core.improper.Improper` which inherits from `gmso.abc.abstract_connection.Connection` to define a 4-partner connection(improper) between `Atoms`."
   ]
  },
  {
   "cell_type": "code",
   "execution_count": 5,
   "metadata": {},
   "outputs": [
    {
     "data": {
      "text/plain": [
       "(<Atom, id 140099994746304>, <Atom, id 140100039301152>)"
      ]
     },
     "execution_count": 5,
     "metadata": {},
     "output_type": "execute_result"
    }
   ],
   "source": [
    "from gmso import Bond\n",
    "bond = Bond(connection_members=[atom1, atom2])\n",
    "bond.connection_members"
   ]
  },
  {
   "cell_type": "markdown",
   "metadata": {},
   "source": [
    "\n",
    "### Potentials\n",
    "1. [`parametric_potential.py`](https://github.com/mosdef-hub/gmso/blob/3ff3829cb4bc492b41e5e520d26d35c09c5338a4/gmso/core/parametric_potential.py): Defines the class `gmso.core.parametric_potential.ParametricPotential` which inherits from `gmso.abc.abstract_potential.Potential` to define a `ParametricPotential` class which stores the functional form of a Potential as sympy expression and parameters of the potential expression as `unyt_quantities`.\n",
    "\n",
    "2. [`atom_type.py`](https://github.com/mosdef-hub/gmso/blob/3ff3829cb4bc492b41e5e520d26d35c09c5338a4/gmso/core/atom_type.py): Defines the class `gmso.core.atom_type.AtomType` which inherits from `gmso.core.parametric_potential.ParametricPotential` to describe properties for an `AtomType`.\n",
    "\n",
    "3. [`bond_type.py`](https://github.com/mosdef-hub/gmso/blob/3ff3829cb4bc492b41e5e520d26d35c09c5338a4/gmso/core/bond_type.py): Defines the class `gmso.core.bond_type.BondType` which inherits from `gmso.core.parametric_potential.ParametricPotential` to describe properties for a `BondType`.\n",
    "\n",
    "4. [`angle_type.py`](https://github.com/mosdef-hub/gmso/blob/3ff3829cb4bc492b41e5e520d26d35c09c5338a4/gmso/core/angle_type.py): Defines the class `gmso.core.angle_type.AngleType` which inherits from `gmso.core.parametric_potential.ParametricPotential` to describe properties for an `AngleType`.\n",
    "\n",
    "5. [`dihedral_type.py`](https://github.com/mosdef-hub/gmso/blob/3ff3829cb4bc492b41e5e520d26d35c09c5338a4/gmso/core/dihedral_type.py) and [`improper_type.py`](https://github.com/mosdef-hub/gmso/blob/3ff3829cb4bc492b41e5e520d26d35c09c5338a4/gmso/core/atom_type.py): Defines the classes `gmso.core.atom_type.DihedralType` and `gmso.core.improper_type.ImproperType` which inherit from `gmso.core.parametric_potential.ParametricPotential` which describe properties for a `DihedralType` and `ImproperType` respectively."
   ]
  },
  {
   "cell_type": "code",
   "execution_count": 6,
   "metadata": {},
   "outputs": [
    {
     "name": "stdout",
     "output_type": "stream",
     "text": [
      "symbol y is not in expression's free symbols. Cannot use an independent variable which doesn't exist in the expression's free symbols {x, a, b}\n"
     ]
    }
   ],
   "source": [
    "from gmso.core.parametric_potential import ParametricPotential\n",
    "\n",
    "# Handle potential expression using separate Expression class\n",
    "new_potential = ParametricPotential(\n",
    "            name='mypotential',\n",
    "            expression='a*x+b',\n",
    "            parameters={\n",
    "                'a': 1.0*u.g,\n",
    "                'b': 1.0*u.m\n",
    "            },\n",
    "            independent_variables={'x'}\n",
    ")\n",
    "\n",
    "try:\n",
    "    new_potential.independent_variables = 'y'\n",
    "except ValueError as e:\n",
    "    print(e)"
   ]
  },
  {
   "cell_type": "markdown",
   "metadata": {},
   "source": [
    "### Topologies\n",
    "1. [`topology.py`](https://github.com/mosdef-hub/gmso/blob/3ff3829cb4bc492b41e5e520d26d35c09c5338a4/gmso/core/topology.py): Defines the class `gmso.core.topology.Topology` which is the main data structure responsible for interactions between various potentials, connections and sites to form a chemical topology representation."
   ]
  },
  {
   "cell_type": "code",
   "execution_count": 7,
   "metadata": {},
   "outputs": [
    {
     "name": "stdout",
     "output_type": "stream",
     "text": [
      "<Topology 5 sites, 4 connections, id: 140099994446928>\n"
     ]
    }
   ],
   "source": [
    "from gmso import Topology, Atom, Bond\n",
    "methane_top = Topology()\n",
    "c = Atom(name='c')\n",
    "h1 = Atom(name='h1')\n",
    "h2 = Atom(name='h2')\n",
    "h3 = Atom(name='h3')\n",
    "h4 = Atom(name='h4')\n",
    "ch1 = Bond(connection_members=[c,h1])\n",
    "ch2 = Bond(connection_members=[c,h2])\n",
    "ch3 = Bond(connection_members=[c,h3])\n",
    "ch4 = Bond(connection_members=[c,h4])\n",
    "methane_top.add_site(c, update_types=False)\n",
    "methane_top.add_site(h1, update_types=False)\n",
    "methane_top.add_site(h2, update_types=False)\n",
    "methane_top.add_site(h3, update_types=False)\n",
    "methane_top.add_site(h4, update_types=False)\n",
    "methane_top.add_connection(ch1, update_types=False\n",
    ")\n",
    "methane_top.add_connection(ch2, update_types=False)\n",
    "methane_top.add_connection(ch3, update_types=False)\n",
    "methane_top.add_connection(ch4, update_types=False)\n",
    "methane_top.update_topology()\n",
    "print(methane_top)"
   ]
  },
  {
   "cell_type": "markdown",
   "metadata": {},
   "source": [
    "### Forcefield\n",
    "1. [`forcefield.py`](https://github.com/mosdef-hub/gmso/blob/3ff3829cb4bc492b41e5e520d26d35c09c5338a4/gmso/core/forcefield.py): Defines the class `ForceField` which defines the in memory representation of the gmso forcefield schema. An Example schema `tip3p.xml` is shown below:"
   ]
  },
  {
   "cell_type": "markdown",
   "metadata": {},
   "source": [
    "```xml\n",
    "<?xml version='1.0' encoding='UTF-8'?>\n",
    "<ForceField name=\"TIP3P\" version=\"0.0.1\"> \n",
    "  <!-- Defines metadata as units -->\n",
    "  <FFMetaData>\n",
    "    <Units energy=\"kJ/mol\" mass=\"amu\" charge=\"elementary_charge\" distance=\"nm\"/>\n",
    "  </FFMetaData>\n",
    "  <!-- Potentials can be grouped together by expression and can have optional names -->\n",
    "  <AtomTypes expression=\"4*epsilon * ((sigma/r)**12 - (sigma/r)**6)\">\n",
    "     <!--   Units for parameters are defined in this tag    -->\n",
    "    <ParametersUnitDef parameter=\"epsilon\" unit=\"kJ/mol\"/>\n",
    "    <ParametersUnitDef parameter=\"sigma\" unit=\"nm\"/>\n",
    "    <AtomType name=\"opls_111\" element=\"O\" charge=\"-0.834\" mass=\"16\" definition=\"O\" description=\"water O\">\n",
    "      <Parameters>\n",
    "        <Parameter name=\"epsilon\" value=\"0.636386\"/>\n",
    "        <Parameter name=\"sigma\" value=\"0.315061\"/>\n",
    "      </Parameters>\n",
    "    </AtomType>\n",
    "    <AtomType name=\"opls_112\" element=\"H\" charge=\"0.417\" mass=\"1.011\" definition=\"H\">\n",
    "      <Parameters>\n",
    "        <Parameter name=\"epsilon\" value=\"0.0\"/>\n",
    "        <Parameter name=\"sigma\" value=\"1.0\"/>\n",
    "      </Parameters>\n",
    "    </AtomType>\n",
    "  </AtomTypes>\n",
    "  <BondTypes expression=\"0.5 * k * (r-r_eq)**2\">\n",
    "    <ParametersUnitDef parameter=\"k\" unit=\"kJ/mol/nm**2\"/>\n",
    "    <ParametersUnitDef parameter=\"r_eq\" unit=\"nm\"/>\n",
    "    <BondType name=\"BondType-Harmonic-1\" type1=\"opls_111\" type2=\"opls_112\">\n",
    "      <Parameters>\n",
    "        <Parameter name=\"k\" value=\"502416.0\"/>\n",
    "        <Parameter name=\"r_eq\" value=\"0.09572\"/>\n",
    "      </Parameters>\n",
    "    </BondType>\n",
    "  </BondTypes>\n",
    "  <AngleTypes expression=\"0.5 * k * (theta - theta_eq)**2\">\n",
    "    <ParametersUnitDef parameter=\"k\" unit=\"kJ/(mol*radian**2)\"/>\n",
    "    <ParametersUnitDef parameter=\"theta_eq\" unit=\"radian\"/>\n",
    "    <AngleType name=\"AngleType-Harmonic-1\" type1=\"opls_112\" type2=\"opls_111\" type3=\"opls_112\">\n",
    "      <Parameters>\n",
    "        <Parameter name=\"k\" value=\"682.02\"/>\n",
    "        <Parameter name=\"theta_eq\" value=\"1.824218134\"/>\n",
    "      </Parameters>\n",
    "    </AngleType>\n",
    "  </AngleTypes>\n",
    "</ForceField>\n",
    "```"
   ]
  },
  {
   "cell_type": "code",
   "execution_count": 8,
   "metadata": {},
   "outputs": [
    {
     "data": {
      "text/plain": [
       "{'opls_111~opls_112': <BondType BondType-Harmonic-1, id 140099994743984>}"
      ]
     },
     "execution_count": 8,
     "metadata": {},
     "output_type": "execute_result"
    }
   ],
   "source": [
    "from gmso import ForceField \n",
    "from gmso.tests.utils import get_path\n",
    "water = ForceField(get_path('tip3p.xml'))\n",
    "water.bond_types"
   ]
  },
  {
   "cell_type": "markdown",
   "metadata": {},
   "source": [
    "## Module gmso.lib, gmso.formats, gmso.external\n",
    "Module gmso.lib defines the a lazy loading module from json files. For example, the `OPLSTorsionPotential` is defined as a json file as shown below. The `PotentialTemplate` class also inherits from `gmso.abc.abstract_potential.Potential` is wrapped by a singleton class and is immutable.\n",
    "\n",
    "```json\n",
    "{\n",
    "  \"name\": \"OPLSTorsionPotential\",\n",
    "  \"expression\": \"0.5 * k0 + 0.5 * k1 * (1 + cos(phi)) + 0.5 * k2 * (1 - cos(2*phi)) + 0.5 * k3 * (1 + cos(3*phi)) + 0.5 * k4 * (1 - cos(4*phi))\",\n",
    "  \"independent_variables\": \"phi\"\n",
    "}\n",
    "\n",
    "```"
   ]
  },
  {
   "cell_type": "code",
   "execution_count": 9,
   "metadata": {},
   "outputs": [
    {
     "data": {
      "text/plain": [
       "{'name': 'OPLSTorsionPotential',\n",
       " 'potential_expression': <PotentialExpression, expression: 0.5*k0 + 0.5*k1*(cos(phi) + 1) + 0.5*k2*(1 - cos(2*phi)) + 0.5*k3*(cos(3*phi) + 1) + 0.5*k4*(1 - cos(4*phi)), 1 independent variables>}"
      ]
     },
     "execution_count": 9,
     "metadata": {},
     "output_type": "execute_result"
    }
   ],
   "source": [
    "from gmso.lib.potential_templates import PotentialTemplateLibrary\n",
    "opls = PotentialTemplateLibrary()['OPLSTorsionPotential']\n",
    "opls.dict(by_alias=True)"
   ]
  },
  {
   "cell_type": "markdown",
   "metadata": {},
   "source": [
    "Modules `gmso.formats` and `gmso.external` define file writers to different simulation engines and converters to/from external packages."
   ]
  },
  {
   "cell_type": "markdown",
   "metadata": {},
   "source": [
    "## Handling Potential Parameters and Units in GMSO\n",
    "\n",
    "Potential expression and parameters represent the functional form of any bonded or non bonded potential in GMSO. At its core, any potential class (inheriting from `gmso.abstract_potential.AbstractPotential`) is a container for three entities:\n",
    "\n",
    "1. The expression for the Potential\n",
    "2. The parameters (i.e. non-free variables) in the Potential expression and their values\n",
    "3. The Potential reference (for example atom_type or atom_class for an AtomType)\n",
    "\n",
    "Basically, we delegate the handling of potential expression and units in GMSO to a utility class called `PotentialExpression`, which keeps track between changes of independent variables and expression of a potential expression. Basically, we use the same utility class to manage both parametric and non-parametric potential Expression."
   ]
  },
  {
   "cell_type": "code",
   "execution_count": 10,
   "metadata": {},
   "outputs": [
    {
     "name": "stdout",
     "output_type": "stream",
     "text": [
      "symbol d is not in expression's free symbols. Cannot use an independent variable which doesn't exist in the expression's free symbols {x, c, b}\n"
     ]
    }
   ],
   "source": [
    "from gmso.utils.expression import _PotentialExpression\n",
    "\n",
    "expression = _PotentialExpression(\n",
    "    expression='x*b+c',\n",
    "    independent_variables={'c'}\n",
    ")\n",
    "\n",
    "expression.is_parametric\n",
    "\n",
    "try:\n",
    "    expression.independent_variables = 'd' # Will throw an error\n",
    "except ValueError as e:\n",
    "    print(e)"
   ]
  },
  {
   "cell_type": "markdown",
   "metadata": {},
   "source": [
    "As shown above, we can use the `PotentialTemplateLibrary` to parametrize any potential we would want. All the parameters are maintained as `unyt_arrays` which makes them easier to work with in any unit system. An example of creating a Potential from LJ template is shown below:"
   ]
  },
  {
   "cell_type": "code",
   "execution_count": 11,
   "metadata": {},
   "outputs": [
    {
     "data": {
      "text/plain": [
       "('HarmonicTorsionPotential',\n",
       " 'MiePotential',\n",
       " 'HarmonicImproperPotential',\n",
       " 'LennardJonesPotential',\n",
       " 'HarmonicAnglePotential',\n",
       " 'RyckaertBellemansTorsionPotential',\n",
       " 'BuckinghamPotential',\n",
       " 'PeriodicTorsionPotential',\n",
       " 'OPLSTorsionPotential',\n",
       " 'HarmonicBondPotential')"
      ]
     },
     "execution_count": 11,
     "metadata": {},
     "output_type": "execute_result"
    }
   ],
   "source": [
    "import unyt as u\n",
    "from gmso.core.parametric_potential import ParametricPotential\n",
    "from gmso.lib.potential_templates import PotentialTemplateLibrary\n",
    "pt_lib = PotentialTemplateLibrary()\n",
    "pt_lib.get_available_template_names()"
   ]
  },
  {
   "cell_type": "code",
   "execution_count": 12,
   "metadata": {},
   "outputs": [
    {
     "data": {
      "text/latex": [
       "$\\displaystyle 4 \\epsilon \\left(- \\frac{\\sigma^{6}}{r^{6}} + \\frac{\\sigma^{12}}{r^{12}}\\right)$"
      ],
      "text/plain": [
       "4*epsilon*(-sigma**6/r**6 + sigma**12/r**12)"
      ]
     },
     "execution_count": 12,
     "metadata": {},
     "output_type": "execute_result"
    }
   ],
   "source": [
    "pt_lib['LennardJonesPotential'].expression"
   ]
  },
  {
   "cell_type": "code",
   "execution_count": 13,
   "metadata": {},
   "outputs": [
    {
     "data": {
      "text/plain": [
       "{r}"
      ]
     },
     "execution_count": 13,
     "metadata": {},
     "output_type": "execute_result"
    }
   ],
   "source": [
    "pt_lib['LennardJonesPotential'].independent_variables"
   ]
  },
  {
   "cell_type": "code",
   "execution_count": 14,
   "metadata": {},
   "outputs": [
    {
     "data": {
      "text/plain": [
       "{'sigma': unyt_quantity(1., 'nm'),\n",
       " 'epsilon': unyt_quantity(1.60217662e-19, 'C')}"
      ]
     },
     "execution_count": 14,
     "metadata": {},
     "output_type": "execute_result"
    }
   ],
   "source": [
    "lj_parametrized = ParametricPotential.from_template(\n",
    "    potential_template=pt_lib['LennardJonesPotential'],\n",
    "    parameters={\n",
    "        'sigma' : 1.0 * u.nm,\n",
    "        'epsilon': 1.0 * u.elementary_charge\n",
    "    }\n",
    ")\n",
    "\n",
    "lj_parametrized.parameters"
   ]
  },
  {
   "cell_type": "code",
   "execution_count": 15,
   "metadata": {},
   "outputs": [
    {
     "data": {
      "text/latex": [
       "$\\displaystyle 4 \\epsilon \\left(- \\frac{\\sigma^{6}}{r^{6}} + \\frac{\\sigma^{12}}{r^{12}}\\right)$"
      ],
      "text/plain": [
       "4*epsilon*(-sigma**6/r**6 + sigma**12/r**12)"
      ]
     },
     "execution_count": 15,
     "metadata": {},
     "output_type": "execute_result"
    }
   ],
   "source": [
    "lj_parametrized.expression"
   ]
  },
  {
   "cell_type": "markdown",
   "metadata": {},
   "source": [
    "## Example: Typed Water System using mBuild"
   ]
  },
  {
   "cell_type": "code",
   "execution_count": 16,
   "metadata": {},
   "outputs": [],
   "source": [
    "import mbuild as mb\n",
    "from gmso.core.angle import Angle\n",
    "from gmso.core.forcefield import ForceField\n",
    "from gmso.tests.utils import get_path\n",
    "from gmso.external import from_mbuild\n",
    "\n",
    "water = mb.load(get_path('tip3p.mol2'))\n",
    "water.name = 'water'\n",
    "water[0].name = 'opls_111'\n",
    "water[1].name = water[2].name = 'opls_112'\n",
    "\n",
    "packed_water = mb.fill_box(\n",
    "    compound=water,\n",
    "    n_compounds=2,\n",
    "    box=mb.Box([2, 2, 2])\n",
    ")\n",
    "\n",
    "water_top = from_mbuild(packed_water)\n",
    "\n",
    "ff = ForceField(get_path('tip3p.xml'))\n",
    "\n",
    "element_map = { \"O\": \"opls_111\", \"H\": 'opls_112'}\n",
    "\n",
    "\n",
    "for atom in water_top.sites:\n",
    "    atom.atom_type = ff.atom_types[atom.name]\n",
    "\n",
    "for bond in  water_top.bonds:\n",
    "    bond.bond_type = ff.bond_types[f'opls_111~opls_112']\n",
    "    \n",
    "for subtop in water_top.subtops:\n",
    "    angle = Angle(\n",
    "        connection_members=[site for site in subtop.sites],\n",
    "        name='opls_112~opls_111~opls_112',\n",
    "        angle_type=ff.angle_types[\"opls_112~opls_111~opls_112\"]\n",
    "    )\n",
    "    water_top.add_connection(angle)\n",
    "\n",
    "water_top.update_topology()"
   ]
  },
  {
   "cell_type": "markdown",
   "metadata": {},
   "source": [
    "## XML Schema for gmso Forcefield\n",
    "\n",
    "We use XML standard 1.0 and enforce strict validation (no extra attributes or new patterns allowed) via `lxml` and custom logic to create a forcefield schema with the following major tags:\n",
    "\n",
    "1. Metadata tag `<FFMetadata/>`: This tag can be used to default units for the forcefield schema. We can also save the `electrostaticScale` as well as `nonBonded14Scale` for the forcefield in the metadata tag.\n",
    "2. Potential Group Tags `<AtomTypes/>`, `<BondTypes/>`, `<AngleTypes/>`, `<DihedralTypes/>`. These tags can be used to group togehter potentials with similar attributes like expression and parameters. They consolidate information regarding individual poetential. A forcefeild schema can have multiple group tags of the same kind.\n",
    "3. Individual Potentials `<AtomType/>`, `<BondType/>`, `<AngleType/>`, `<DihedralType/>` and `<ImproperType/>` contains attributes and subtags to represent individual potentials.\n",
    "\n",
    "The snippet below shows the rules for representing an `<AtomType>` element.\n",
    "\n",
    "```xsd\n",
    " <xsd:complexType name=\"AtomType\">\n",
    "        <xsd:sequence>\n",
    "            <xsd:element ref=\"Parameters\" minOccurs=\"0\" maxOccurs=\"1\"/>\n",
    "        </xsd:sequence>\n",
    "        <xsd:attribute name=\"name\" type=\"xsd:string\" use=\"optional\"/>\n",
    "        <xsd:attribute name=\"mass\" type=\"xsd:float\" use=\"optional\"/>\n",
    "        <xsd:attribute name=\"element\" type=\"xsd:string\" use=\"optional\"/>\n",
    "        <xsd:attribute name=\"charge\" type=\"xsd:float\" use=\"optional\"/>\n",
    "        <xsd:attribute name=\"expression\" type=\"xsd:string\" use=\"optional\"/>\n",
    "        <xsd:attribute name=\"independent_variables\" type=\"xsd:string\" use=\"optional\"/>\n",
    "        <xsd:attribute name=\"atomclass\" type=\"xsd:string\" use=\"optional\"/>\n",
    "        <xsd:attribute name=\"doi\" type=\"xsd:string\" use=\"optional\"/>\n",
    "        <xsd:attribute name=\"overrides\" type=\"xsd:string\" use=\"optional\"/>\n",
    "        <xsd:attribute name=\"definition\" type=\"xsd:string\" use=\"optional\"/>\n",
    "        <xsd:attribute name=\"description\" type=\"xsd:string\" use=\"optional\"/>\n",
    "    </xsd:complexType>\n",
    "```\n",
    "\n",
    "As shown above, when creating a `Forcefield` object from the serialized representation of a `forcefield`, the strings for expression are converted into symbols using the `sympy` package and units are handled by yt's `unyt` package."
   ]
  },
  {
   "cell_type": "markdown",
   "metadata": {},
   "source": [
    "## Limitations and Future Plans"
   ]
  }
 ],
 "metadata": {
  "kernelspec": {
   "display_name": "Python 3",
   "language": "python",
   "name": "python3"
  },
  "language_info": {
   "codemirror_mode": {
    "name": "ipython",
    "version": 3
   },
   "file_extension": ".py",
   "mimetype": "text/x-python",
   "name": "python",
   "nbconvert_exporter": "python",
   "pygments_lexer": "ipython3",
   "version": "3.7.8"
  }
 },
 "nbformat": 4,
 "nbformat_minor": 4
}
