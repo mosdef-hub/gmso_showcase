{
 "cells": [
  {
   "cell_type": "markdown",
   "id": "5420ece6",
   "metadata": {},
   "source": [
    "# Module gmso.formats, gmso.external and gmso.lib\n",
    "Modules `gmso.formats` and `gmso.external` define file writers to different simulation engines and converters to/from external packages respectively.\n",
    "\n",
    "Module structure for `gmso.formats`:\n",
    "\n",
    "```\n",
    "gmso/formats/\n",
    "├── gro.py\n",
    "├── gsd.py\n",
    "├── lammpsdata.py\n",
    "├── mcf.py\n",
    "├── top.py\n",
    "└── xyz.py\n",
    "```\n",
    "\n",
    "Currently, we support the following file readers/writers:\n",
    "\n",
    "|Extension | Engine | Typed or Un-typed? | Internal reader | Internal writer | \n",
    "|:---:|:------:|:------------------:|:---------------:|:---------------:|\n",
    "|.mol2| many       | Un-typed | Available  |-| \n",
    "|.xyz | many       | Un-typed | Available | Available |\n",
    "|.gro | GROMACS    | Un-typed | Available | Available |\n",
    "|.top | GROMACS    | Typed    | - | Available |\n",
    "|.gsd | HOOMD-Blue | Typed | - | Available |\n",
    "|.mcf | Cassandra  | Typed | - | Available |\n",
    "|.data | LAMMPS | Typed | Available |Available | \n",
    "\n",
    "\n",
    "The module structure for `gmso.external` is as follows:\n",
    "\n",
    "```\n",
    "gmso/external/\n",
    "├── convert_mbuild.py\n",
    "├── convert_openmm.py\n",
    "├── convert_parmed.py\n",
    "```\n",
    "\n",
    "We support the conversion to/from a [parmed](https://github.com/ParmEd/ParmEd) `Structure`, [mbuild](https://mbuild.mosdef.org) `Compound`. Currently, we only support converting a gmso `Topology` to an [OpenMM](http://openmm.org/) `Topology`.\n",
    "\n",
    "\n",
    "Module `gmso.lib` defines a lazy loading module to create Potential templates from json files. For example, the `OPLSTorsionPotential` is defined as a json file as shown below. The `PotentialTemplate` class also inherits from `gmso.abc.abstract_potential.Potential` and is immutable.\n",
    "\n",
    "```json\n",
    "{\n",
    "  \"name\": \"OPLSTorsionPotential\",\n",
    "  \"expression\": \"0.5 * k0 + 0.5 * k1 * (1 + cos(phi)) + 0.5 * k2 * (1 - cos(2*phi)) + 0.5 * k3 * (1 + cos(3*phi)) + 0.5 * k4 * (1 - cos(4*phi))\",\n",
    "  \"independent_variables\": \"phi\"\n",
    "}\n",
    "\n",
    "```"
   ]
  },
  {
   "cell_type": "code",
   "execution_count": null,
   "id": "081d95bc",
   "metadata": {},
   "outputs": [],
   "source": [
    "from gmso.lib.potential_templates import PotentialTemplateLibrary\n",
    "opls = PotentialTemplateLibrary()['OPLSTorsionPotential']\n",
    "opls.dict(by_alias=True)"
   ]
  }
 ],
 "metadata": {
  "kernelspec": {
   "display_name": "Python 3",
   "language": "python",
   "name": "python3"
  },
  "language_info": {
   "codemirror_mode": {
    "name": "ipython",
    "version": 3
   },
   "file_extension": ".py",
   "mimetype": "text/x-python",
   "name": "python",
   "nbconvert_exporter": "python",
   "pygments_lexer": "ipython3",
   "version": "3.8.0"
  }
 },
 "nbformat": 4,
 "nbformat_minor": 5
}
